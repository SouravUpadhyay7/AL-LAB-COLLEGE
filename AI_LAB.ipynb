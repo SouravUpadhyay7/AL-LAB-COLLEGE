{
  "nbformat": 4,
  "nbformat_minor": 0,
  "metadata": {
    "colab": {
      "provenance": [],
      "authorship_tag": "ABX9TyP5s0M8/OeAcTUEE/fK0Mwe",
      "include_colab_link": true
    },
    "kernelspec": {
      "name": "python3",
      "display_name": "Python 3"
    },
    "language_info": {
      "name": "python"
    }
  },
  "cells": [
    {
      "cell_type": "markdown",
      "metadata": {
        "id": "view-in-github",
        "colab_type": "text"
      },
      "source": [
        "<a href=\"https://colab.research.google.com/github/SouravUpadhyay7/AL-LAB-COLLEGE/blob/main/AI_LAB.ipynb\" target=\"_parent\"><img src=\"https://colab.research.google.com/assets/colab-badge.svg\" alt=\"Open In Colab\"/></a>"
      ]
    },
    {
      "cell_type": "code",
      "execution_count": 1,
      "metadata": {
        "colab": {
          "base_uri": "https://localhost:8080/"
        },
        "id": "uf1lbSZmddkJ",
        "outputId": "889db450-c3b6-4efc-c3b1-c02741bcb16b"
      },
      "outputs": [
        {
          "output_type": "stream",
          "name": "stdout",
          "text": [
            "DFS Traversal:\n",
            "A B D E F C "
          ]
        }
      ],
      "source": [
        "#Depth-First Search (DFS)\n",
        "\n",
        "def dfs(graph, start, visited=None):\n",
        "    if visited is None:\n",
        "        visited = set()\n",
        "    visited.add(start)\n",
        "    print(start, end=\" \")\n",
        "\n",
        "    for neighbor in graph[start]:\n",
        "        if neighbor not in visited:\n",
        "            dfs(graph, neighbor, visited)\n",
        "\n",
        "# Example Usage\n",
        "graph = {\n",
        "    'A': ['B', 'C'],\n",
        "    'B': ['A', 'D', 'E'],\n",
        "    'C': ['A', 'F'],\n",
        "    'D': ['B'],\n",
        "    'E': ['B', 'F'],\n",
        "    'F': ['C', 'E']\n",
        "}\n",
        "\n",
        "print(\"DFS Traversal:\")\n",
        "dfs(graph, 'A')\n"
      ]
    },
    {
      "cell_type": "code",
      "source": [
        "#Breadth-First Search (BFS)\n",
        "\n",
        "from collections import deque\n",
        "\n",
        "def bfs(graph, start):\n",
        "    visited = set()\n",
        "    queue = deque([start])\n",
        "\n",
        "    while queue:\n",
        "        node = queue.popleft()\n",
        "        if node not in visited:\n",
        "            print(node, end=\" \")\n",
        "            visited.add(node)\n",
        "            queue.extend(graph[node])\n",
        "\n",
        "# Example Usage\n",
        "print(\"\\nBFS Traversal:\")\n",
        "bfs(graph, 'A')\n"
      ],
      "metadata": {
        "colab": {
          "base_uri": "https://localhost:8080/"
        },
        "id": "7WQJ4TIpde39",
        "outputId": "6cd9a5c8-7eaf-4b4a-8128-3933bda4c35e"
      },
      "execution_count": 2,
      "outputs": [
        {
          "output_type": "stream",
          "name": "stdout",
          "text": [
            "\n",
            "BFS Traversal:\n",
            "A B C D E F "
          ]
        }
      ]
    },
    {
      "cell_type": "code",
      "source": [
        "#Traveling Salesman Problem (TSP)\n",
        "\n",
        "\n",
        "from itertools import permutations\n",
        "\n",
        "def tsp(graph, start):\n",
        "    vertices = list(graph.keys())\n",
        "    vertices.remove(start)\n",
        "    min_cost = float('inf')\n",
        "    best_path = []\n",
        "\n",
        "    for perm in permutations(vertices):\n",
        "        current_cost = 0\n",
        "        path = [start] + list(perm) + [start]\n",
        "\n",
        "        for i in range(len(path) - 1):\n",
        "            current_cost += graph[path[i]][path[i+1]]\n",
        "\n",
        "        if current_cost < min_cost:\n",
        "            min_cost = current_cost\n",
        "            best_path = path\n",
        "\n",
        "    return best_path, min_cost\n",
        "\n",
        "# Example Graph\n",
        "graph = {\n",
        "    'A': {'B': 10, 'C': 15, 'D': 20},\n",
        "    'B': {'A': 10, 'C': 35, 'D': 25},\n",
        "    'C': {'A': 15, 'B': 35, 'D': 30},\n",
        "    'D': {'A': 20, 'B': 25, 'C': 30}\n",
        "}\n",
        "\n",
        "print(\"\\nTSP Path and Cost:\", tsp(graph, 'A'))\n"
      ],
      "metadata": {
        "colab": {
          "base_uri": "https://localhost:8080/"
        },
        "id": "KzKL7XuFd70n",
        "outputId": "5826dcc8-893c-448c-debe-ef75805be8c0"
      },
      "execution_count": 3,
      "outputs": [
        {
          "output_type": "stream",
          "name": "stdout",
          "text": [
            "\n",
            "TSP Path and Cost: (['A', 'B', 'D', 'C', 'A'], 80)\n"
          ]
        }
      ]
    },
    {
      "cell_type": "code",
      "source": [
        "#8-Puzzle Problem (Using BFS)\n",
        "\n",
        "from collections import deque\n",
        "\n",
        "def solve_8_puzzle(start, goal):\n",
        "    queue = deque([(start, [])])\n",
        "    visited = set()\n",
        "\n",
        "    while queue:\n",
        "        state, path = queue.popleft()\n",
        "        if state == goal:\n",
        "            return path\n",
        "\n",
        "        if tuple(state) in visited:\n",
        "            continue\n",
        "        visited.add(tuple(state))\n",
        "\n",
        "        # Implement possible moves\n",
        "        # (For simplicity, assuming a predefined move function)\n",
        "\n",
        "    return None\n",
        "\n",
        "# Example (Need to define moves)\n",
        "start_state = [1, 2, 3, 4, 5, 6, 7, 8, 0]\n",
        "goal_state = [1, 2, 3, 4, 5, 6, 7, 8, 0]\n",
        "print(\"\\nSolution Path:\", solve_8_puzzle(start_state, goal_state))\n"
      ],
      "metadata": {
        "colab": {
          "base_uri": "https://localhost:8080/"
        },
        "id": "04_zEcyPeExP",
        "outputId": "392af0a2-4ed7-4575-be56-96ebd57a3fb6"
      },
      "execution_count": 5,
      "outputs": [
        {
          "output_type": "stream",
          "name": "stdout",
          "text": [
            "\n",
            "Solution Path: []\n"
          ]
        }
      ]
    },
    {
      "cell_type": "code",
      "source": [
        "# Tower of Hanoi\n",
        "\n",
        "def hanoi(n, source, auxiliary, target):\n",
        "    if n > 0:\n",
        "        hanoi(n-1, source, target, auxiliary)\n",
        "        print(f\"Move disk {n} from {source} to {target}\")\n",
        "        hanoi(n-1, auxiliary, source, target)\n",
        "\n",
        "hanoi(3, 'A', 'B', 'C')\n"
      ],
      "metadata": {
        "colab": {
          "base_uri": "https://localhost:8080/"
        },
        "id": "COzbak5AefMK",
        "outputId": "57c15129-274b-47db-ca36-bd5a45872b71"
      },
      "execution_count": 6,
      "outputs": [
        {
          "output_type": "stream",
          "name": "stdout",
          "text": [
            "Move disk 1 from A to C\n",
            "Move disk 2 from A to B\n",
            "Move disk 1 from C to B\n",
            "Move disk 3 from A to C\n",
            "Move disk 1 from B to A\n",
            "Move disk 2 from B to C\n",
            "Move disk 1 from A to C\n"
          ]
        }
      ]
    },
    {
      "cell_type": "code",
      "source": [
        "# A Algorithm*\n",
        "\n",
        "import heapq\n",
        "\n",
        "def a_star(graph, start, goal):\n",
        "    pq = [(0, start)]\n",
        "    visited = set()\n",
        "\n",
        "    while pq:\n",
        "        cost, node = heapq.heappop(pq)\n",
        "        if node == goal:\n",
        "            return cost\n",
        "        if node not in visited:\n",
        "            visited.add(node)\n",
        "            for neighbor, weight in graph[node]:\n",
        "                heapq.heappush(pq, (cost + weight, neighbor))\n",
        "\n",
        "# Example Graph\n",
        "graph = {'A': [('B', 1), ('C', 4)], 'B': [('C', 2), ('D', 5)], 'C': [('D', 1)], 'D': []}\n",
        "print(\"\\nA* Cost:\", a_star(graph, 'A', 'D'))\n"
      ],
      "metadata": {
        "colab": {
          "base_uri": "https://localhost:8080/"
        },
        "id": "KKTywTy8ejel",
        "outputId": "94848d28-6c34-482b-aa43-04e1ee2a5bee"
      },
      "execution_count": 7,
      "outputs": [
        {
          "output_type": "stream",
          "name": "stdout",
          "text": [
            "\n",
            "A* Cost: 4\n"
          ]
        }
      ]
    },
    {
      "cell_type": "code",
      "source": [
        "#Hill Climbing Algorithm\n",
        "\n",
        "def hill_climbing(f, x, step=0.1, max_iter=100):\n",
        "    for _ in range(max_iter):\n",
        "        if f(x + step) > f(x):\n",
        "            x += step\n",
        "        elif f(x - step) > f(x):\n",
        "            x -= step\n",
        "        else:\n",
        "            break\n",
        "    return x\n",
        "\n",
        "print(\"\\nOptimal Solution:\", hill_climbing(lambda x: -x**2 + 4*x, 0))\n"
      ],
      "metadata": {
        "colab": {
          "base_uri": "https://localhost:8080/"
        },
        "id": "CHX6pLyrerK4",
        "outputId": "269d233c-4569-458f-816a-0dce9fbea81e"
      },
      "execution_count": 8,
      "outputs": [
        {
          "output_type": "stream",
          "name": "stdout",
          "text": [
            "\n",
            "Optimal Solution: 2.0000000000000004\n"
          ]
        }
      ]
    },
    {
      "cell_type": "code",
      "source": [
        "#Fibonacci Series\n",
        "\n",
        "def fibonacci(n):\n",
        "    a, b = 0, 1\n",
        "    for _ in range(n):\n",
        "        print(a, end=\" \")\n",
        "        a, b = b, a + b\n",
        "\n",
        "fibonacci(10)\n"
      ],
      "metadata": {
        "colab": {
          "base_uri": "https://localhost:8080/"
        },
        "id": "SdLkmEL4e1w6",
        "outputId": "958eeea0-e155-4112-8142-917016151a3e"
      },
      "execution_count": 9,
      "outputs": [
        {
          "output_type": "stream",
          "name": "stdout",
          "text": [
            "0 1 1 2 3 5 8 13 21 34 "
          ]
        }
      ]
    },
    {
      "cell_type": "code",
      "source": [
        "#Check Triangle Sides\n",
        "\n",
        "def check_triangle(a, b, c):\n",
        "    if a + b > c and a + c > b and b + c > a:\n",
        "        return \"Valid Triangle\"\n",
        "    return \"Not a Triangle\"\n",
        "\n",
        "print(\"\\nTriangle Check:\", check_triangle(3, 4, 5))\n"
      ],
      "metadata": {
        "colab": {
          "base_uri": "https://localhost:8080/"
        },
        "id": "PEnHK9SXe9FC",
        "outputId": "409b92f9-b69e-4777-e051-95f5281e50fa"
      },
      "execution_count": 10,
      "outputs": [
        {
          "output_type": "stream",
          "name": "stdout",
          "text": [
            "\n",
            "Triangle Check: Valid Triangle\n"
          ]
        }
      ]
    },
    {
      "cell_type": "code",
      "source": [
        "#Length of List\n",
        "\n",
        "def list_length(lst):\n",
        "    return len(lst)\n",
        "\n",
        "print(\"\\nList Length:\", list_length([1, 2, 3, 4]))\n"
      ],
      "metadata": {
        "colab": {
          "base_uri": "https://localhost:8080/"
        },
        "id": "NTjRQXMNfCj-",
        "outputId": "caeddeb4-74ab-423a-fbf2-687f855af95c"
      },
      "execution_count": 11,
      "outputs": [
        {
          "output_type": "stream",
          "name": "stdout",
          "text": [
            "\n",
            "List Length: 4\n"
          ]
        }
      ]
    },
    {
      "cell_type": "code",
      "source": [
        "#Reverse a List\n",
        "\n",
        "def reverse_list(lst):\n",
        "    return lst[::-1]\n",
        "\n",
        "print(\"\\nReversed List:\", reverse_list([1, 2, 3, 4]))\n"
      ],
      "metadata": {
        "colab": {
          "base_uri": "https://localhost:8080/"
        },
        "id": "CQoFE0ZffGhb",
        "outputId": "d65b8228-6d06-4e38-e716-d3d63904f744"
      },
      "execution_count": 12,
      "outputs": [
        {
          "output_type": "stream",
          "name": "stdout",
          "text": [
            "\n",
            "Reversed List: [4, 3, 2, 1]\n"
          ]
        }
      ]
    },
    {
      "cell_type": "code",
      "source": [
        "#Arithmetic Mean\n",
        "\n",
        "def arithmetic_mean(lst):\n",
        "    return sum(lst) / len(lst)\n",
        "\n",
        "print(\"\\nArithmetic Mean:\", arithmetic_mean([1, 2, 3, 4, 5]))\n"
      ],
      "metadata": {
        "colab": {
          "base_uri": "https://localhost:8080/"
        },
        "id": "9eutCAEdfMSs",
        "outputId": "010f8506-51a3-4d27-f8ca-6fe2230926ba"
      },
      "execution_count": 13,
      "outputs": [
        {
          "output_type": "stream",
          "name": "stdout",
          "text": [
            "\n",
            "Arithmetic Mean: 3.0\n"
          ]
        }
      ]
    },
    {
      "cell_type": "code",
      "source": [
        "#Check for Vowels\n",
        "\n",
        "char = input(\"Enter a character: \").strip().lower()\n",
        "\n",
        "if char in 'aeiou':\n",
        "    print(f\"'{char}' is a vowel.\")\n",
        "else:\n",
        "    print(f\"'{char}' is not a vowel.\")\n",
        "\n"
      ],
      "metadata": {
        "colab": {
          "base_uri": "https://localhost:8080/"
        },
        "id": "KQhJsBVtfUUs",
        "outputId": "0cad2624-7dc6-4f2b-a64f-55296f613a58"
      },
      "execution_count": 15,
      "outputs": [
        {
          "output_type": "stream",
          "name": "stdout",
          "text": [
            "Enter a character: e\n",
            "'e' is a vowel.\n"
          ]
        }
      ]
    }
  ]
}